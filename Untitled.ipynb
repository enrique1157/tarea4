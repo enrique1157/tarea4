{
 "cells": [
  {
   "cell_type": "code",
   "execution_count": 1,
   "id": "aea2ac32",
   "metadata": {},
   "outputs": [],
   "source": [
    "#TAREA 4"
   ]
  },
  {
   "cell_type": "code",
   "execution_count": 2,
   "id": "92f50d4f",
   "metadata": {},
   "outputs": [
    {
     "data": {
      "text/plain": [
       "['country',\n",
       " 'cities',\n",
       " 'rivers',\n",
       " 'airports',\n",
       " 'border',\n",
       " 'states',\n",
       " 'municipalities']"
      ]
     },
     "execution_count": 2,
     "metadata": {},
     "output_type": "execute_result"
    }
   ],
   "source": [
    "from  fiona import listlayers\n",
    "import os\n",
    "\n",
    "venezuelaMaps=os.path.join('maps','venezuelaMaps_24718_all.gpkg')\n",
    "\n",
    "#layers in maps\n",
    "listlayers(venezuelaMaps)"
   ]
  },
  {
   "cell_type": "code",
   "execution_count": null,
   "id": "06920173",
   "metadata": {},
   "outputs": [],
   "source": []
  },
  {
   "cell_type": "code",
   "execution_count": 3,
   "id": "fc70c85c",
   "metadata": {},
   "outputs": [],
   "source": [
    "# reading in the data:\n",
    "import os\n",
    "import geopandas as gpd\n",
    "\n",
    "states=gpd.read_file(venezuelaMaps,layer='states')\n",
    "municipalities=gpd.read_file(venezuelaMaps,layer='municipalities')\n",
    "airports=gpd.read_file(venezuelaMaps,layer='airports')\n",
    "rivers=gpd.read_file(venezuelaMaps,layer='rivers')\n",
    "border=gpd.read_file(venezuelaMaps,layer='border')"
   ]
  },
  {
   "cell_type": "code",
   "execution_count": 4,
   "id": "fc0753ff",
   "metadata": {},
   "outputs": [
    {
     "data": {
      "text/plain": [
       "['World Port Index Number',\n",
       " 'Region Name',\n",
       " 'Main Port Name',\n",
       " 'Alternate Port Name',\n",
       " 'UN/LOCODE',\n",
       " 'Country Code',\n",
       " 'World Water Body',\n",
       " 'IHO S-130 Sea Area',\n",
       " 'Sailing Direction or Publication',\n",
       " 'Publication Link',\n",
       " 'Standard Nautical Chart',\n",
       " 'IHO S-57 Electronic Navigational Chart',\n",
       " 'IHO S-101 Electronic Navigational Chart',\n",
       " 'Digital Nautical Chart',\n",
       " 'Tidal Range (m)',\n",
       " 'Entrance Width (m)',\n",
       " 'Channel Depth (m)',\n",
       " 'Anchorage Depth (m)',\n",
       " 'Cargo Pier Depth (m)',\n",
       " 'Oil Terminal Depth (m)',\n",
       " 'Liquified Natural Gas Terminal Depth (m)',\n",
       " 'Maximum Vessel Length (m)',\n",
       " 'Maximum Vessel Beam (m)',\n",
       " 'Maximum Vessel Draft (m)',\n",
       " 'Offshore Maximum Vessel Length (m)',\n",
       " 'Offshore Maximum Vessel Beam (m)',\n",
       " 'Offshore Maximum Vessel Draft (m)',\n",
       " 'Harbor Size',\n",
       " 'Harbor Type',\n",
       " 'Harbor Use',\n",
       " 'Shelter Afforded',\n",
       " 'Entrance Restriction - Tide',\n",
       " 'Entrance Restriction - Heavy Swell',\n",
       " 'Entrance Restriction - Ice',\n",
       " 'Entrance Restriction - Other',\n",
       " 'Overhead Limits',\n",
       " 'Underkeel Clearance Management System',\n",
       " 'Good Holding Ground',\n",
       " 'Turning Area',\n",
       " 'Port Security',\n",
       " 'Estimated Time of Arrival Message',\n",
       " 'Quarantine - Pratique',\n",
       " 'Quarantine - Sanitation',\n",
       " 'Quarantine - Other',\n",
       " 'Traffic Separation Scheme',\n",
       " 'Vessel Traffic Service',\n",
       " 'First Port of Entry',\n",
       " 'US Representative',\n",
       " 'Pilotage - Compulsory',\n",
       " 'Pilotage - Available',\n",
       " 'Pilotage - Local Assistance',\n",
       " 'Pilotage - Advisable',\n",
       " 'Tugs - Salvage',\n",
       " 'Tugs - Assistance',\n",
       " 'Communications - Telephone',\n",
       " 'Communications - Telefax',\n",
       " 'Communications - Radio',\n",
       " 'Communications - Radiotelephone',\n",
       " 'Communications - Airport',\n",
       " 'Communications - Rail',\n",
       " 'Search and Rescue',\n",
       " 'NAVAREA',\n",
       " 'Facilities - Wharves',\n",
       " 'Facilities - Anchorage',\n",
       " 'Facilities - Dangerous Cargo Anchorage',\n",
       " 'Facilities - Med Mooring',\n",
       " 'Facilities - Beach Mooring',\n",
       " 'Facilities - Ice Mooring',\n",
       " 'Facilities - Ro-Ro',\n",
       " 'Facilities - Solid Bulk',\n",
       " 'Facilities - Liquid Bulk',\n",
       " 'Facilities - Container',\n",
       " 'Facilities - Breakbulk',\n",
       " 'Facilities - Oil Terminal',\n",
       " 'Facilities - LNG Terminal',\n",
       " 'Facilities - Other',\n",
       " 'Medical Facilities',\n",
       " 'Garbage Disposal',\n",
       " 'Chemical Holding Tank Disposal',\n",
       " 'Degaussing',\n",
       " 'Dirty Ballast Disposal',\n",
       " 'Cranes - Fixed',\n",
       " 'Cranes - Mobile',\n",
       " 'Cranes - Floating',\n",
       " 'Cranes - Container',\n",
       " 'Lifts - 100+ Tons',\n",
       " 'Lifts - 50-100 Tons',\n",
       " 'Lifts - 25-49 Tons',\n",
       " 'Lifts - 0-24 Tons',\n",
       " 'Services - Longshoremen',\n",
       " 'Services - Electricity',\n",
       " 'Services - Steam',\n",
       " 'Services - Navigation Equipment',\n",
       " 'Services - Electrical Repair',\n",
       " 'Services - Ice Breaking',\n",
       " 'Services - Diving',\n",
       " 'Supplies - Provisions',\n",
       " 'Supplies - Potable Water',\n",
       " 'Supplies - Fuel Oil',\n",
       " 'Supplies - Diesel Oil',\n",
       " 'Supplies - Aviation Fuel',\n",
       " 'Supplies - Deck',\n",
       " 'Supplies - Engine',\n",
       " 'Repairs',\n",
       " 'Dry Dock',\n",
       " 'Railway',\n",
       " 'Latitude',\n",
       " 'Longitude']"
      ]
     },
     "execution_count": 4,
     "metadata": {},
     "output_type": "execute_result"
    }
   ],
   "source": [
    "import pandas as pd \n",
    "\n",
    "\n",
    "portsFile=os.path.join('data','UpdatedPub150.csv')\n",
    "\n",
    "infoseaports=pd.read_csv(portsFile)\n",
    "#columns available (so many)\n",
    "infoseaports.columns.to_list()"
   ]
  },
  {
   "cell_type": "code",
   "execution_count": 5,
   "id": "c69197bc",
   "metadata": {},
   "outputs": [],
   "source": [
    "#spatial points (unprojected)\n",
    "seaports=gpd.GeoDataFrame(data=infoseaports.copy(),\n",
    "                           geometry=gpd.points_from_xy(infoseaports.Longitude,\n",
    "                                                       infoseaports.Latitude), \n",
    "                          crs=4326)# notice it is unprojected\n",
    "\n",
    "# subset:\n",
    "seaports_venezuela=seaports[seaports['Country Code']=='Venezuela'].copy()\n",
    "\n",
    "# reset indexes\n",
    "seaports_venezuela.reset_index(drop=True, inplace=True)\n",
    "\n",
    "# reprojecting\n",
    "seaports_venezuela_24718=seaports_venezuela.to_crs(24718) # projected crs"
   ]
  },
  {
   "cell_type": "code",
   "execution_count": 6,
   "id": "f79985c6",
   "metadata": {},
   "outputs": [],
   "source": [
    "#COMIENZA LA TAREA"
   ]
  },
  {
   "cell_type": "code",
   "execution_count": 7,
   "id": "c175b673",
   "metadata": {},
   "outputs": [],
   "source": [
    "#EJERCICIO 1"
   ]
  },
  {
   "cell_type": "code",
   "execution_count": 8,
   "id": "918983d0",
   "metadata": {},
   "outputs": [
    {
     "data": {
      "text/plain": [
       "<Axes: >"
      ]
     },
     "execution_count": 8,
     "metadata": {},
     "output_type": "execute_result"
    },
    {
     "data": {
      "image/png": "[encoded data removed]",
      "text/plain": [
       "<Figure size 640x480 with 1 Axes>"
      ]
     },
     "metadata": {},
     "output_type": "display_data"
    }
   ],
   "source": [
    "# subsetting\n",
    "smallAirports=airports[airports['kind']=='small_airport'] #can't use \"airports.type\"\n",
    "smallAirports.reset_index(drop=True, inplace=True)\n",
    "\n",
    "#plotting\n",
    "base=smallAirports.plot(color='yellow',marker=\"^\")\n",
    "seaports_venezuela_24718.plot(ax=base,alpha=0.5,markersize=3)"
   ]
  },
  {
   "cell_type": "code",
   "execution_count": 9,
   "id": "0062ba09",
   "metadata": {},
   "outputs": [
    {
     "name": "stdout",
     "output_type": "stream",
     "text": [
      "Index(['World Port Index Number', 'Region Name', 'Main Port Name',\n",
      "       'Alternate Port Name', 'UN/LOCODE', 'Country Code', 'World Water Body',\n",
      "       'IHO S-130 Sea Area', 'Sailing Direction or Publication',\n",
      "       'Publication Link',\n",
      "       ...\n",
      "       'Supplies - Diesel Oil', 'Supplies - Aviation Fuel', 'Supplies - Deck',\n",
      "       'Supplies - Engine', 'Repairs', 'Dry Dock', 'Railway', 'Latitude',\n",
      "       'Longitude', 'geometry'],\n",
      "      dtype='object', length=109)\n"
     ]
    }
   ],
   "source": [
    "print(seaports_venezuela_24718.columns)"
   ]
  },
  {
   "cell_type": "code",
   "execution_count": 10,
   "id": "95c41e26",
   "metadata": {},
   "outputs": [
    {
     "ename": "InvalidIndexError",
     "evalue": "Reindexing only valid with uniquely valued Index objects",
     "output_type": "error",
     "traceback": [
      "\u001b[1;31m---------------------------------------------------------------------------\u001b[0m",
      "\u001b[1;31mInvalidIndexError\u001b[0m                         Traceback (most recent call last)",
      "Cell \u001b[1;32mIn[10], line 3\u001b[0m\n\u001b[0;32m      1\u001b[0m \u001b[38;5;66;03m#Distancias entre cada small airport y seaport\u001b[39;00m\n\u001b[1;32m----> 3\u001b[0m seaports_venezuela_24718\u001b[38;5;241m.\u001b[39mset_index(\u001b[38;5;124m'\u001b[39m\u001b[38;5;124mMain Port Name\u001b[39m\u001b[38;5;124m'\u001b[39m)\u001b[38;5;241m.\u001b[39mgeometry\u001b[38;5;241m.\u001b[39mapply\\\n\u001b[0;32m      4\u001b[0m (\u001b[38;5;28;01mlambda\u001b[39;00m g: smallAirports\u001b[38;5;241m.\u001b[39mset_index(\u001b[38;5;124m'\u001b[39m\u001b[38;5;124mname\u001b[39m\u001b[38;5;124m'\u001b[39m)\u001b[38;5;241m.\u001b[39mgeometry\u001b[38;5;241m.\u001b[39mdistance(g)\u001b[38;5;241m/\u001b[39m\u001b[38;5;241m1000\u001b[39m)\u001b[38;5;241m.\u001b[39m\\\n\u001b[0;32m      5\u001b[0m sort_index(axis\u001b[38;5;241m=\u001b[39m\u001b[38;5;241m0\u001b[39m)\u001b[38;5;241m.\u001b[39msort_index(axis\u001b[38;5;241m=\u001b[39m\u001b[38;5;241m1\u001b[39m)\n",
      "File \u001b[1;32m~\\anaconda3\\envs\\new_enrique\\Lib\\site-packages\\geopandas\\geoseries.py:660\u001b[0m, in \u001b[0;36mGeoSeries.apply\u001b[1;34m(self, func, convert_dtype, args, **kwargs)\u001b[0m\n\u001b[0;32m    657\u001b[0m         kwargs[\u001b[38;5;124m\"\u001b[39m\u001b[38;5;124mconvert_dtype\u001b[39m\u001b[38;5;124m\"\u001b[39m] \u001b[38;5;241m=\u001b[39m \u001b[38;5;28;01mTrue\u001b[39;00m\n\u001b[0;32m    659\u001b[0m \u001b[38;5;66;03m# to avoid warning\u001b[39;00m\n\u001b[1;32m--> 660\u001b[0m result \u001b[38;5;241m=\u001b[39m \u001b[38;5;28msuper\u001b[39m()\u001b[38;5;241m.\u001b[39mapply(func, args\u001b[38;5;241m=\u001b[39margs, \u001b[38;5;241m*\u001b[39m\u001b[38;5;241m*\u001b[39mkwargs)\n\u001b[0;32m    661\u001b[0m \u001b[38;5;28;01mif\u001b[39;00m \u001b[38;5;28misinstance\u001b[39m(result, GeoSeries):\n\u001b[0;32m    662\u001b[0m     \u001b[38;5;28;01mif\u001b[39;00m \u001b[38;5;28mself\u001b[39m\u001b[38;5;241m.\u001b[39mcrs \u001b[38;5;129;01mis\u001b[39;00m \u001b[38;5;129;01mnot\u001b[39;00m \u001b[38;5;28;01mNone\u001b[39;00m:\n",
      "File \u001b[1;32m~\\anaconda3\\envs\\new_enrique\\Lib\\site-packages\\pandas\\core\\series.py:4760\u001b[0m, in \u001b[0;36mSeries.apply\u001b[1;34m(self, func, convert_dtype, args, by_row, **kwargs)\u001b[0m\n\u001b[0;32m   4625\u001b[0m \u001b[38;5;28;01mdef\u001b[39;00m \u001b[38;5;21mapply\u001b[39m(\n\u001b[0;32m   4626\u001b[0m     \u001b[38;5;28mself\u001b[39m,\n\u001b[0;32m   4627\u001b[0m     func: AggFuncType,\n\u001b[1;32m   (...)\u001b[0m\n\u001b[0;32m   4632\u001b[0m     \u001b[38;5;241m*\u001b[39m\u001b[38;5;241m*\u001b[39mkwargs,\n\u001b[0;32m   4633\u001b[0m ) \u001b[38;5;241m-\u001b[39m\u001b[38;5;241m>\u001b[39m DataFrame \u001b[38;5;241m|\u001b[39m Series:\n\u001b[0;32m   4634\u001b[0m \u001b[38;5;250m    \u001b[39m\u001b[38;5;124;03m\"\"\"\u001b[39;00m\n\u001b[0;32m   4635\u001b[0m \u001b[38;5;124;03m    Invoke function on values of Series.\u001b[39;00m\n\u001b[0;32m   4636\u001b[0m \n\u001b[1;32m   (...)\u001b[0m\n\u001b[0;32m   4751\u001b[0m \u001b[38;5;124;03m    dtype: float64\u001b[39;00m\n\u001b[0;32m   4752\u001b[0m \u001b[38;5;124;03m    \"\"\"\u001b[39;00m\n\u001b[0;32m   4753\u001b[0m     \u001b[38;5;28;01mreturn\u001b[39;00m SeriesApply(\n\u001b[0;32m   4754\u001b[0m         \u001b[38;5;28mself\u001b[39m,\n\u001b[0;32m   4755\u001b[0m         func,\n\u001b[0;32m   4756\u001b[0m         convert_dtype\u001b[38;5;241m=\u001b[39mconvert_dtype,\n\u001b[0;32m   4757\u001b[0m         by_row\u001b[38;5;241m=\u001b[39mby_row,\n\u001b[0;32m   4758\u001b[0m         args\u001b[38;5;241m=\u001b[39margs,\n\u001b[0;32m   4759\u001b[0m         kwargs\u001b[38;5;241m=\u001b[39mkwargs,\n\u001b[1;32m-> 4760\u001b[0m     )\u001b[38;5;241m.\u001b[39mapply()\n",
      "File \u001b[1;32m~\\anaconda3\\envs\\new_enrique\\Lib\\site-packages\\pandas\\core\\apply.py:1207\u001b[0m, in \u001b[0;36mSeriesApply.apply\u001b[1;34m(self)\u001b[0m\n\u001b[0;32m   1204\u001b[0m     \u001b[38;5;28;01mreturn\u001b[39;00m \u001b[38;5;28mself\u001b[39m\u001b[38;5;241m.\u001b[39mapply_compat()\n\u001b[0;32m   1206\u001b[0m \u001b[38;5;66;03m# self.func is Callable\u001b[39;00m\n\u001b[1;32m-> 1207\u001b[0m \u001b[38;5;28;01mreturn\u001b[39;00m \u001b[38;5;28mself\u001b[39m\u001b[38;5;241m.\u001b[39mapply_standard()\n",
      "File \u001b[1;32m~\\anaconda3\\envs\\new_enrique\\Lib\\site-packages\\pandas\\core\\apply.py:1294\u001b[0m, in \u001b[0;36mSeriesApply.apply_standard\u001b[1;34m(self)\u001b[0m\n\u001b[0;32m   1287\u001b[0m mapped \u001b[38;5;241m=\u001b[39m obj\u001b[38;5;241m.\u001b[39m_map_values(\n\u001b[0;32m   1288\u001b[0m     mapper\u001b[38;5;241m=\u001b[39mcurried, na_action\u001b[38;5;241m=\u001b[39maction, convert\u001b[38;5;241m=\u001b[39m\u001b[38;5;28mself\u001b[39m\u001b[38;5;241m.\u001b[39mconvert_dtype\n\u001b[0;32m   1289\u001b[0m )\n\u001b[0;32m   1291\u001b[0m \u001b[38;5;28;01mif\u001b[39;00m \u001b[38;5;28mlen\u001b[39m(mapped) \u001b[38;5;129;01mand\u001b[39;00m \u001b[38;5;28misinstance\u001b[39m(mapped[\u001b[38;5;241m0\u001b[39m], ABCSeries):\n\u001b[0;32m   1292\u001b[0m     \u001b[38;5;66;03m# GH#43986 Need to do list(mapped) in order to get treated as nested\u001b[39;00m\n\u001b[0;32m   1293\u001b[0m     \u001b[38;5;66;03m#  See also GH#25959 regarding EA support\u001b[39;00m\n\u001b[1;32m-> 1294\u001b[0m     \u001b[38;5;28;01mreturn\u001b[39;00m obj\u001b[38;5;241m.\u001b[39m_constructor_expanddim(\u001b[38;5;28mlist\u001b[39m(mapped), index\u001b[38;5;241m=\u001b[39mobj\u001b[38;5;241m.\u001b[39mindex)\n\u001b[0;32m   1295\u001b[0m \u001b[38;5;28;01melse\u001b[39;00m:\n\u001b[0;32m   1296\u001b[0m     \u001b[38;5;28;01mreturn\u001b[39;00m obj\u001b[38;5;241m.\u001b[39m_constructor(mapped, index\u001b[38;5;241m=\u001b[39mobj\u001b[38;5;241m.\u001b[39mindex)\u001b[38;5;241m.\u001b[39m__finalize__(\n\u001b[0;32m   1297\u001b[0m         obj, method\u001b[38;5;241m=\u001b[39m\u001b[38;5;124m\"\u001b[39m\u001b[38;5;124mapply\u001b[39m\u001b[38;5;124m\"\u001b[39m\n\u001b[0;32m   1298\u001b[0m     )\n",
      "File \u001b[1;32m~\\anaconda3\\envs\\new_enrique\\Lib\\site-packages\\geopandas\\geoseries.py:58\u001b[0m, in \u001b[0;36m_geoseries_expanddim\u001b[1;34m(data, *args, **kwargs)\u001b[0m\n\u001b[0;32m     55\u001b[0m \u001b[38;5;28;01mfrom\u001b[39;00m \u001b[38;5;21;01mgeopandas\u001b[39;00m \u001b[38;5;28;01mimport\u001b[39;00m GeoDataFrame\n\u001b[0;32m     57\u001b[0m \u001b[38;5;66;03m# pd.Series._constructor_expanddim == pd.DataFrame\u001b[39;00m\n\u001b[1;32m---> 58\u001b[0m df \u001b[38;5;241m=\u001b[39m pd\u001b[38;5;241m.\u001b[39mDataFrame(data, \u001b[38;5;241m*\u001b[39margs, \u001b[38;5;241m*\u001b[39m\u001b[38;5;241m*\u001b[39mkwargs)\n\u001b[0;32m     59\u001b[0m geo_col_name \u001b[38;5;241m=\u001b[39m \u001b[38;5;28;01mNone\u001b[39;00m\n\u001b[0;32m     60\u001b[0m \u001b[38;5;28;01mif\u001b[39;00m \u001b[38;5;28misinstance\u001b[39m(data, GeoSeries):\n\u001b[0;32m     61\u001b[0m     \u001b[38;5;66;03m# pandas default column name is 0, keep convention\u001b[39;00m\n",
      "File \u001b[1;32m~\\anaconda3\\envs\\new_enrique\\Lib\\site-packages\\pandas\\core\\frame.py:806\u001b[0m, in \u001b[0;36mDataFrame.__init__\u001b[1;34m(self, data, index, columns, dtype, copy)\u001b[0m\n\u001b[0;32m    804\u001b[0m     \u001b[38;5;28;01mif\u001b[39;00m columns \u001b[38;5;129;01mis\u001b[39;00m \u001b[38;5;129;01mnot\u001b[39;00m \u001b[38;5;28;01mNone\u001b[39;00m:\n\u001b[0;32m    805\u001b[0m         columns \u001b[38;5;241m=\u001b[39m ensure_index(columns)\n\u001b[1;32m--> 806\u001b[0m     arrays, columns, index \u001b[38;5;241m=\u001b[39m nested_data_to_arrays(\n\u001b[0;32m    807\u001b[0m         \u001b[38;5;66;03m# error: Argument 3 to \"nested_data_to_arrays\" has incompatible\u001b[39;00m\n\u001b[0;32m    808\u001b[0m         \u001b[38;5;66;03m# type \"Optional[Collection[Any]]\"; expected \"Optional[Index]\"\u001b[39;00m\n\u001b[0;32m    809\u001b[0m         data,\n\u001b[0;32m    810\u001b[0m         columns,\n\u001b[0;32m    811\u001b[0m         index,  \u001b[38;5;66;03m# type: ignore[arg-type]\u001b[39;00m\n\u001b[0;32m    812\u001b[0m         dtype,\n\u001b[0;32m    813\u001b[0m     )\n\u001b[0;32m    814\u001b[0m     mgr \u001b[38;5;241m=\u001b[39m arrays_to_mgr(\n\u001b[0;32m    815\u001b[0m         arrays,\n\u001b[0;32m    816\u001b[0m         columns,\n\u001b[1;32m   (...)\u001b[0m\n\u001b[0;32m    819\u001b[0m         typ\u001b[38;5;241m=\u001b[39mmanager,\n\u001b[0;32m    820\u001b[0m     )\n\u001b[0;32m    821\u001b[0m \u001b[38;5;28;01melse\u001b[39;00m:\n",
      "File \u001b[1;32m~\\anaconda3\\envs\\new_enrique\\Lib\\site-packages\\pandas\\core\\internals\\construction.py:520\u001b[0m, in \u001b[0;36mnested_data_to_arrays\u001b[1;34m(data, columns, index, dtype)\u001b[0m\n\u001b[0;32m    517\u001b[0m \u001b[38;5;28;01mif\u001b[39;00m is_named_tuple(data[\u001b[38;5;241m0\u001b[39m]) \u001b[38;5;129;01mand\u001b[39;00m columns \u001b[38;5;129;01mis\u001b[39;00m \u001b[38;5;28;01mNone\u001b[39;00m:\n\u001b[0;32m    518\u001b[0m     columns \u001b[38;5;241m=\u001b[39m ensure_index(data[\u001b[38;5;241m0\u001b[39m]\u001b[38;5;241m.\u001b[39m_fields)\n\u001b[1;32m--> 520\u001b[0m arrays, columns \u001b[38;5;241m=\u001b[39m to_arrays(data, columns, dtype\u001b[38;5;241m=\u001b[39mdtype)\n\u001b[0;32m    521\u001b[0m columns \u001b[38;5;241m=\u001b[39m ensure_index(columns)\n\u001b[0;32m    523\u001b[0m \u001b[38;5;28;01mif\u001b[39;00m index \u001b[38;5;129;01mis\u001b[39;00m \u001b[38;5;28;01mNone\u001b[39;00m:\n",
      "File \u001b[1;32m~\\anaconda3\\envs\\new_enrique\\Lib\\site-packages\\pandas\\core\\internals\\construction.py:839\u001b[0m, in \u001b[0;36mto_arrays\u001b[1;34m(data, columns, dtype)\u001b[0m\n\u001b[0;32m    837\u001b[0m     arr, columns \u001b[38;5;241m=\u001b[39m _list_of_dict_to_arrays(data, columns)\n\u001b[0;32m    838\u001b[0m \u001b[38;5;28;01melif\u001b[39;00m \u001b[38;5;28misinstance\u001b[39m(data[\u001b[38;5;241m0\u001b[39m], ABCSeries):\n\u001b[1;32m--> 839\u001b[0m     arr, columns \u001b[38;5;241m=\u001b[39m _list_of_series_to_arrays(data, columns)\n\u001b[0;32m    840\u001b[0m \u001b[38;5;28;01melse\u001b[39;00m:\n\u001b[0;32m    841\u001b[0m     \u001b[38;5;66;03m# last ditch effort\u001b[39;00m\n\u001b[0;32m    842\u001b[0m     data \u001b[38;5;241m=\u001b[39m [\u001b[38;5;28mtuple\u001b[39m(x) \u001b[38;5;28;01mfor\u001b[39;00m x \u001b[38;5;129;01min\u001b[39;00m data]\n",
      "File \u001b[1;32m~\\anaconda3\\envs\\new_enrique\\Lib\\site-packages\\pandas\\core\\internals\\construction.py:882\u001b[0m, in \u001b[0;36m_list_of_series_to_arrays\u001b[1;34m(data, columns)\u001b[0m\n\u001b[0;32m    880\u001b[0m     indexer \u001b[38;5;241m=\u001b[39m indexer_cache[\u001b[38;5;28mid\u001b[39m(index)]\n\u001b[0;32m    881\u001b[0m \u001b[38;5;28;01melse\u001b[39;00m:\n\u001b[1;32m--> 882\u001b[0m     indexer \u001b[38;5;241m=\u001b[39m indexer_cache[\u001b[38;5;28mid\u001b[39m(index)] \u001b[38;5;241m=\u001b[39m index\u001b[38;5;241m.\u001b[39mget_indexer(columns)\n\u001b[0;32m    884\u001b[0m values \u001b[38;5;241m=\u001b[39m extract_array(s, extract_numpy\u001b[38;5;241m=\u001b[39m\u001b[38;5;28;01mTrue\u001b[39;00m)\n\u001b[0;32m    885\u001b[0m aligned_values\u001b[38;5;241m.\u001b[39mappend(algorithms\u001b[38;5;241m.\u001b[39mtake_nd(values, indexer))\n",
      "File \u001b[1;32m~\\anaconda3\\envs\\new_enrique\\Lib\\site-packages\\pandas\\core\\indexes\\base.py:3874\u001b[0m, in \u001b[0;36mIndex.get_indexer\u001b[1;34m(self, target, method, limit, tolerance)\u001b[0m\n\u001b[0;32m   3871\u001b[0m \u001b[38;5;28mself\u001b[39m\u001b[38;5;241m.\u001b[39m_check_indexing_method(method, limit, tolerance)\n\u001b[0;32m   3873\u001b[0m \u001b[38;5;28;01mif\u001b[39;00m \u001b[38;5;129;01mnot\u001b[39;00m \u001b[38;5;28mself\u001b[39m\u001b[38;5;241m.\u001b[39m_index_as_unique:\n\u001b[1;32m-> 3874\u001b[0m     \u001b[38;5;28;01mraise\u001b[39;00m InvalidIndexError(\u001b[38;5;28mself\u001b[39m\u001b[38;5;241m.\u001b[39m_requires_unique_msg)\n\u001b[0;32m   3876\u001b[0m \u001b[38;5;28;01mif\u001b[39;00m \u001b[38;5;28mlen\u001b[39m(target) \u001b[38;5;241m==\u001b[39m \u001b[38;5;241m0\u001b[39m:\n\u001b[0;32m   3877\u001b[0m     \u001b[38;5;28;01mreturn\u001b[39;00m np\u001b[38;5;241m.\u001b[39marray([], dtype\u001b[38;5;241m=\u001b[39mnp\u001b[38;5;241m.\u001b[39mintp)\n",
      "\u001b[1;31mInvalidIndexError\u001b[0m: Reindexing only valid with uniquely valued Index objects"
     ]
    }
   ],
   "source": [
    "#Distancias entre cada small airport y seaport\n",
    "\n",
    "seaports_venezuela_24718.set_index('Main Port Name').geometry.apply\\\n",
    "(lambda g: smallAirports.set_index('name').geometry.distance(g)/1000).\\\n",
    "sort_index(axis=0).sort_index(axis=1)"
   ]
  },
  {
   "cell_type": "code",
   "execution_count": null,
   "id": "33d61c56",
   "metadata": {},
   "outputs": [],
   "source": [
    "distanceMatrixKM_sea_air= seaports_venezuela_24718.set_index('Main Port Name').geometry.apply\\\n",
    "                          (lambda g: smallAirports.set_index('name').geometry.distance(g)/1000).\\\n",
    "                          sort_index(axis=0).sort_index(axis=1)"
   ]
  },
  {
   "cell_type": "code",
   "execution_count": null,
   "id": "536873ab",
   "metadata": {},
   "outputs": [],
   "source": [
    "SomeStats=pd.DataFrame()\n",
    "SomeStats['mean']=distanceMatrixKM_sea_air.mean(axis=1)\n",
    "SomeStats['min']=distanceMatrixKM_sea_air.min(axis=1)\n",
    "SomeStats['max']=distanceMatrixKM_sea_air.max(axis=1)\n",
    "# see some\n",
    "SomeStats.head(10)"
   ]
  },
  {
   "cell_type": "code",
   "execution_count": null,
   "id": "708fc4f4",
   "metadata": {},
   "outputs": [],
   "source": [
    "#los aeropuertos más cercanos a cada seaport\n",
    "distanceMatrixKM_sea_air.idxmin(axis=1)"
   ]
  },
  {
   "cell_type": "code",
   "execution_count": null,
   "id": "bb92b8f8",
   "metadata": {},
   "outputs": [],
   "source": [
    "# el seaport mas cercano a cada aeropuerto\n",
    "distanceMatrixKM_sea_air.idxmin(axis=0)"
   ]
  }
 ],
 "metadata": {
  "kernelspec": {
   "display_name": "Python 3 (ipykernel)",
   "language": "python",
   "name": "python3"
  },
  "language_info": {
   "codemirror_mode": {
    "name": "ipython",
    "version": 3
   },
   "file_extension": ".py",
   "mimetype": "text/x-python",
   "name": "python",
   "nbconvert_exporter": "python",
   "pygments_lexer": "ipython3",
   "version": "3.11.5"
  }
 },
 "nbformat": 4,
 "nbformat_minor": 5
}
