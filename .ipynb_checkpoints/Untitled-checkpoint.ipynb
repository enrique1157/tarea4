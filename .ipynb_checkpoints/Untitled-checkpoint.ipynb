{
 "cells": [
  {
   "cell_type": "code",
   "execution_count": null,
   "id": "aea2ac32",
   "metadata": {},
   "outputs": [],
   "source": [
    "#TAREA 4"
   ]
  },
  {
   "cell_type": "code",
   "execution_count": 1,
   "id": "92f50d4f",
   "metadata": {},
   "outputs": [
    {
     "data": {
      "text/plain": [
       "['country', 'cities', 'rivers', 'border', 'states', 'municipalities']"
      ]
     },
     "execution_count": 1,
     "metadata": {},
     "output_type": "execute_result"
    }
   ],
   "source": [
    "from  fiona import listlayers\n",
    "import os\n",
    "\n",
    "venezuelaMaps=os.path.join('maps','venezuelaMaps_24718_all.gpkg')\n",
    "\n",
    "#layers in maps\n",
    "listlayers(venezuelaMaps)"
   ]
  },
  {
   "cell_type": "code",
   "execution_count": null,
   "id": "fc70c85c",
   "metadata": {},
   "outputs": [],
   "source": [
    "# reading in the data:\n",
    "import os\n",
    "import geopandas as gpd\n",
    "\n",
    "states=gpd.read_file(venezuelaMaps,layer='states')\n",
    "municipalities=gpd.read_file(venezuelaMaps,layer='municipalities')\n",
    "airports=gpd.read_file(venezuelaMaps,layer='airports')\n",
    "rivers=gpd.read_file(venezuelaMaps,layer='rivers')\n",
    "border=gpd.read_file(venezuelaMaps,layer='border')"
   ]
  },
  {
   "cell_type": "code",
   "execution_count": null,
   "id": "fc0753ff",
   "metadata": {},
   "outputs": [],
   "source": [
    "import pandas as pd \n",
    "\n",
    "\n",
    "portsFile=os.path.join('data','UpdatedPub150.csv')\n",
    "\n",
    "infoseaports=pd.read_csv(portsFile)\n",
    "#columns available (so many)\n",
    "infoseaports.columns.to_list()"
   ]
  },
  {
   "cell_type": "code",
   "execution_count": null,
   "id": "c69197bc",
   "metadata": {},
   "outputs": [],
   "source": [
    "#rename\n",
    "infoseaports.rename(columns={'Main Port Name':'portName'},inplace=True)\n",
    "#subset\n",
    "infoseaports=infoseaports.loc[:,['portName', 'Country Code','Latitude', 'Longitude']]\n",
    "\n",
    "# we have now\n",
    "infoseaports.info()"
   ]
  },
  {
   "cell_type": "code",
   "execution_count": null,
   "id": "a1f25288",
   "metadata": {},
   "outputs": [],
   "source": [
    "# some rows\n",
    "infoseaports.head()"
   ]
  },
  {
   "cell_type": "code",
   "execution_count": null,
   "id": "93f24854",
   "metadata": {},
   "outputs": [],
   "source": [
    "#spatial points (unprojected)\n",
    "seaports=gpd.GeoDataFrame(data=infoseaports.copy(),\n",
    "                           geometry=gpd.points_from_xy(infoseaports.Longitude,\n",
    "                                                       infoseaports.Latitude), \n",
    "                          crs=24718)# notice it is unprojected\n",
    "\n",
    "# subset:\n",
    "seaports_bra=seaports[seaports['Country Code']=='Venezuela'].copy()\n",
    "\n",
    "# reset indexes\n",
    "seaports_bra.reset_index(drop=True, inplace=True)\n",
    "\n",
    "# reprojecting\n",
    "seaports_bra_24718=seaports_bra.to_crs(24718) # projected crs"
   ]
  },
  {
   "cell_type": "code",
   "execution_count": null,
   "id": "961294e5",
   "metadata": {},
   "outputs": [],
   "source": [
    "# subsetting\n",
    "largeAirports=airports[airports['type']=='large_airport'] #can't use \"airports.type\"\n",
    "largeAirports.reset_index(drop=True, inplace=True)\n",
    "\n",
    "#plotting\n",
    "base=largeAirports.plot(color='red',marker=\"^\")\n",
    "seaports_bra_24718.plot(ax=base,alpha=0.5,markersize=3)"
   ]
  },
  {
   "cell_type": "code",
   "execution_count": null,
   "id": "e39938ad",
   "metadata": {},
   "outputs": [],
   "source": [
    "print(airports.columns)"
   ]
  },
  {
   "cell_type": "code",
   "execution_count": null,
   "id": "aff9374a",
   "metadata": {},
   "outputs": [],
   "source": [
    "# subsetting\n",
    "largeAirports=airports[airports['type']=='large_airport'] #can't use \"airports.type\"\n",
    "largeAirports.reset_index(drop=True, inplace=True)\n",
    "\n",
    "#plotting\n",
    "base=largeAirports.plot(color='red',marker=\"^\")\n",
    "seaports_bra_24718.plot(ax=base,alpha=0.5,markersize=3)"
   ]
  },
  {
   "cell_type": "code",
   "execution_count": null,
   "id": "5e40247a",
   "metadata": {},
   "outputs": [],
   "source": []
  }
 ],
 "metadata": {
  "kernelspec": {
   "display_name": "Python 3 (ipykernel)",
   "language": "python",
   "name": "python3"
  },
  "language_info": {
   "codemirror_mode": {
    "name": "ipython",
    "version": 3
   },
   "file_extension": ".py",
   "mimetype": "text/x-python",
   "name": "python",
   "nbconvert_exporter": "python",
   "pygments_lexer": "ipython3",
   "version": "3.11.5"
  }
 },
 "nbformat": 4,
 "nbformat_minor": 5
}
